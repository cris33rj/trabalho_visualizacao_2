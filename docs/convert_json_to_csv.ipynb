{
 "cells": [
  {
   "cell_type": "code",
   "execution_count": 5,
   "metadata": {},
   "outputs": [
    {
     "name": "stdout",
     "output_type": "stream",
     "text": [
      "5564\n",
      "<class 'pandas.core.frame.DataFrame'>\n",
      "RangeIndex: 5564 entries, 0 to 5563\n",
      "Data columns (total 2 columns):\n",
      " #   Column    Non-Null Count  Dtype \n",
      "---  ------    --------------  ----- \n",
      " 0   type      5564 non-null   object\n",
      " 1   features  5564 non-null   object\n",
      "dtypes: object(2)\n",
      "memory usage: 87.1+ KB\n"
     ]
    }
   ],
   "source": [
    "import pandas as pd\n",
    "\n",
    "# Load JSON file into a DataFrame\n",
    "json_file_path = \"data/brasil_completo.json\"\n",
    "df = pd.read_json(json_file_path)\n",
    "\n",
    "#df['features.properties.name'] = df['features.properties.name'].apply(lambda x: unidecode(x).upper())\n",
    "\n",
    "print(len(df))\n",
    "df.describe()\n",
    "df.info()\n",
    "\n",
    "\n",
    "\n"
   ]
  },
  {
   "cell_type": "code",
   "execution_count": 9,
   "metadata": {},
   "outputs": [
    {
     "data": {
      "text/plain": [
       "' # Save the modified JSON data back to a file\\nwith open(\\'data/brasil_completo_uppercase_no_accent.json\\', \\'w\\', encoding=\\'utf-8\\') as file:\\n    json.dump(data, file, ensure_ascii=False, indent=4)\\n\\nprint(\"The \\'name\\' field has been converted to uppercase and accentuation removed, and saved to \\'brasil_completo_uppercase_no_accent.json\\'.\") '"
      ]
     },
     "execution_count": 9,
     "metadata": {},
     "output_type": "execute_result"
    }
   ],
   "source": [
    "\"\"\" # Save the DataFrame as a CSV file\n",
    "csv_file_path = 'data/brasil_completo.csv'\n",
    "df.to_csv(csv_file_path, index=False)\n",
    "\n",
    "print(f\"Data successfully loaded from {json_file_path} and saved as {csv_file_path}\") \"\"\"\n",
    "\n",
    "import json\n",
    "from unidecode import unidecode\n",
    "\n",
    "# Load the JSON data from the file\n",
    "with open('data/brasil_completo.json', 'r', encoding='utf-8') as file:\n",
    "    data = json.load(file)\n",
    "\n",
    "# Iterate over each feature in the JSON data\n",
    "for feature in data['features']:\n",
    "    # Remove accentuation and convert the \"name\" field to uppercase\n",
    "    feature['properties']['name'] = unidecode(feature['properties']['name']).upper()\n",
    "\n",
    "rows = []\n",
    "for feature in data['features']:\n",
    "    properties = feature['properties']\n",
    "    row = {\n",
    "        'id': properties['id'],\n",
    "        'name': properties['name']\n",
    "    }\n",
    "    rows.append(row)\n",
    "\n",
    "# Create a DataFrame from the extracted data\n",
    "df = pd.DataFrame(rows)\n",
    "\n",
    "# Save the DataFrame to a CSV file\n",
    "df.to_csv('municipios_ids_e_nomes.csv', index=False, encoding='utf-8')\n",
    "\n",
    "\n",
    "\"\"\" # Save the modified JSON data back to a file\n",
    "with open('data/brasil_completo_uppercase_no_accent.json', 'w', encoding='utf-8') as file:\n",
    "    json.dump(data, file, ensure_ascii=False, indent=4)\n",
    "\n",
    "print(\"The 'name' field has been converted to uppercase and accentuation removed, and saved to 'brasil_completo_uppercase_no_accent.json'.\") \"\"\""
   ]
  },
  {
   "cell_type": "code",
   "execution_count": null,
   "metadata": {},
   "outputs": [],
   "source": []
  }
 ],
 "metadata": {
  "kernelspec": {
   "display_name": "Python 3",
   "language": "python",
   "name": "python3"
  },
  "language_info": {
   "codemirror_mode": {
    "name": "ipython",
    "version": 3
   },
   "file_extension": ".py",
   "mimetype": "text/x-python",
   "name": "python",
   "nbconvert_exporter": "python",
   "pygments_lexer": "ipython3",
   "version": "3.12.2"
  }
 },
 "nbformat": 4,
 "nbformat_minor": 2
}
